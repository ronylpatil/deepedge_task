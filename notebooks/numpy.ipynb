{
 "cells": [
  {
   "cell_type": "code",
   "execution_count": 1,
   "metadata": {},
   "outputs": [],
   "source": [
    "import numpy as np"
   ]
  },
  {
   "cell_type": "code",
   "execution_count": 118,
   "metadata": {},
   "outputs": [],
   "source": [
    "# .shape -> shape of matrix\n",
    "# .ndim -> no of dimensions\n",
    "# .size -> no of elements\n",
    "# .astype -> type conversion\n",
    "# .dtype -> data type of elements\n",
    "\n",
    "\n",
    "# np.zeros((shape))\n",
    "# np.ones((shape))\n",
    "# np.empty((shape))\n",
    "# np.random.randint(start no, end no, size = (shape))\n",
    "\n",
    "# np.arange(1,20)\n",
    "# np.linspace(1,20,10,dtype=int)\n",
    "\n",
    "# .reshape((shape)) return a copy\n",
    "# .resize((shape)) inplace reshape karega\n",
    "\n",
    "# .flat - flatten the array and return flatiter obj\n",
    "# .ravel() - return a flatten copy and return a array\n",
    "\n",
    "# x+y\n",
    "# x-y\n",
    "# x*y\n",
    "# x//y\n",
    "# x@y\n",
    "\n",
    "# axis = 1 row wise L2R\n",
    "# axis = 0 column wise T2B\n",
    "# .sum()\n",
    "# .cumsum()\n",
    "# .sort()\n",
    "# .min()\n",
    "# .max()\n",
    "\n",
    "\n",
    "# slicing\n",
    "# x[:, :] -> all rows all columns\n",
    "# x[:, 1:] -> all rows skip 0th column\n",
    "# x[2:, 0] -> from row 2 and 0th column\n",
    "# x[-1::-1, :] -> rows from bottom to top\n",
    "# x[:, -1::-1] -> columns from right to left\n",
    "# x[-1::-1, -1::-1] -> fully invert the matrix\n",
    "# x[1:, 0] = 0 -> assign the values\n",
    "\n",
    "\n",
    "# np.vstack - vertically append kr dega \n",
    "# np.hstack - horizontally append kr dega \n",
    "# np.column_stack - as a new column add kr dega (same as hstack)\n",
    "# np.row_stack - as a new row add kr dega (same as vstack)\n",
    "# np.concatinate - work as both column stack nd row stack. use axis=1 for column_stack and 0 for row_stack.\n",
    "\n",
    "# for 3D matrix use\n",
    "# np.concate((x, y), axis = 0/1/2) - axis = 0 along the depth, 1 along the rows, 2 along the column\n",
    "\n",
    "\n",
    "# np.where(condition, if_true, false)\n",
    "\n",
    "\n",
    "# np.split(array, no_of_sections) - throw error if split not possible\n",
    "# np.array_split(array, no_of_sec) - wont throw error, instead create empty array\n",
    "# np.vsplit(...) - vertically split, throw error if split not possible\n",
    "# np.hsplit(...) - horizontally split, throw error if split not possible"
   ]
  },
  {
   "cell_type": "code",
   "execution_count": 127,
   "metadata": {},
   "outputs": [
    {
     "data": {
      "text/plain": [
       "array([[5, 4, 5, 2, 1],\n",
       "       [1, 2, 1, 5, 4],\n",
       "       [5, 2, 1, 4, 7],\n",
       "       [1, 1, 8, 3, 2]])"
      ]
     },
     "execution_count": 127,
     "metadata": {},
     "output_type": "execute_result"
    }
   ],
   "source": [
    "x = np.random.randint(1, 9, (4,5))\n",
    "x"
   ]
  },
  {
   "cell_type": "code",
   "execution_count": 134,
   "metadata": {},
   "outputs": [
    {
     "data": {
      "text/plain": [
       "[array([[5, 4, 5, 2, 1],\n",
       "        [1, 2, 1, 5, 4]]),\n",
       " array([[5, 2, 1, 4, 7],\n",
       "        [1, 1, 8, 3, 2]])]"
      ]
     },
     "execution_count": 134,
     "metadata": {},
     "output_type": "execute_result"
    }
   ],
   "source": [
    "np.split(x, indices_or_sections = 2, axis = 0)"
   ]
  },
  {
   "cell_type": "code",
   "execution_count": 137,
   "metadata": {},
   "outputs": [
    {
     "data": {
      "text/plain": [
       "[array([[5, 4, 5, 2, 1],\n",
       "        [1, 2, 1, 5, 4]]),\n",
       " array([[5, 2, 1, 4, 7]]),\n",
       " array([[1, 1, 8, 3, 2]])]"
      ]
     },
     "execution_count": 137,
     "metadata": {},
     "output_type": "execute_result"
    }
   ],
   "source": [
    "np.array_split(x, indices_or_sections = 3, axis = 0)"
   ]
  },
  {
   "cell_type": "code",
   "execution_count": 138,
   "metadata": {},
   "outputs": [
    {
     "data": {
      "text/plain": [
       "[array([[5, 4, 5, 2, 1],\n",
       "        [1, 2, 1, 5, 4]]),\n",
       " array([[5, 2, 1, 4, 7],\n",
       "        [1, 1, 8, 3, 2]])]"
      ]
     },
     "execution_count": 138,
     "metadata": {},
     "output_type": "execute_result"
    }
   ],
   "source": [
    "np.vsplit(x, indices_or_sections = 2)"
   ]
  },
  {
   "cell_type": "code",
   "execution_count": 139,
   "metadata": {},
   "outputs": [
    {
     "data": {
      "text/plain": [
       "[array([[5],\n",
       "        [1],\n",
       "        [5],\n",
       "        [1]]),\n",
       " array([[4],\n",
       "        [2],\n",
       "        [2],\n",
       "        [1]]),\n",
       " array([[5],\n",
       "        [1],\n",
       "        [1],\n",
       "        [8]]),\n",
       " array([[2],\n",
       "        [5],\n",
       "        [4],\n",
       "        [3]]),\n",
       " array([[1],\n",
       "        [4],\n",
       "        [7],\n",
       "        [2]])]"
      ]
     },
     "execution_count": 139,
     "metadata": {},
     "output_type": "execute_result"
    }
   ],
   "source": [
    "np.hsplit(x, 5)"
   ]
  },
  {
   "cell_type": "code",
   "execution_count": 117,
   "metadata": {},
   "outputs": [
    {
     "data": {
      "text/plain": [
       "array([[2, 6, 7],\n",
       "       [1, 6, 5],\n",
       "       [5, 5, 4]])"
      ]
     },
     "execution_count": 117,
     "metadata": {},
     "output_type": "execute_result"
    }
   ],
   "source": [
    "x = np.random.randint(1, 9, (3,3))\n",
    "x"
   ]
  },
  {
   "cell_type": "code",
   "execution_count": 122,
   "metadata": {},
   "outputs": [],
   "source": [
    "y = np.zeros((3,3), dtype=int)"
   ]
  },
  {
   "cell_type": "code",
   "execution_count": 123,
   "metadata": {},
   "outputs": [
    {
     "data": {
      "text/plain": [
       "array([[2, 6, 7, 0, 0, 0],\n",
       "       [1, 6, 5, 0, 0, 0],\n",
       "       [5, 5, 4, 0, 0, 0]])"
      ]
     },
     "execution_count": 123,
     "metadata": {},
     "output_type": "execute_result"
    }
   ],
   "source": [
    "np.concatenate((x, y), axis = 1)"
   ]
  },
  {
   "cell_type": "code",
   "execution_count": 124,
   "metadata": {},
   "outputs": [
    {
     "data": {
      "text/plain": [
       "array([[2, 6, 7],\n",
       "       [1, 6, 5],\n",
       "       [5, 5, 4],\n",
       "       [0, 0, 0],\n",
       "       [0, 0, 0],\n",
       "       [0, 0, 0]])"
      ]
     },
     "execution_count": 124,
     "metadata": {},
     "output_type": "execute_result"
    }
   ],
   "source": [
    "np.concatenate((x, y), axis = 0)"
   ]
  },
  {
   "cell_type": "code",
   "execution_count": 98,
   "metadata": {},
   "outputs": [
    {
     "data": {
      "text/plain": [
       "array([[6, 4, 7, 5],\n",
       "       [3, 5, 1, 5],\n",
       "       [6, 2, 1, 5],\n",
       "       [1, 6, 1, 1],\n",
       "       [5, 1, 4, 8],\n",
       "       [8, 5, 3, 1],\n",
       "       [3, 6, 5, 3],\n",
       "       [6, 5, 7, 2],\n",
       "       [5, 8, 3, 6],\n",
       "       [4, 8, 2, 1]])"
      ]
     },
     "execution_count": 98,
     "metadata": {},
     "output_type": "execute_result"
    }
   ],
   "source": [
    "x = np.random.randint(1, 9, (10, 4))\n",
    "x"
   ]
  },
  {
   "cell_type": "code",
   "execution_count": 109,
   "metadata": {},
   "outputs": [],
   "source": [
    "y = np.zeros(10, dtype=int)"
   ]
  },
  {
   "cell_type": "code",
   "execution_count": 114,
   "metadata": {},
   "outputs": [
    {
     "data": {
      "text/plain": [
       "array([[6, 4, 7, 5, 0],\n",
       "       [3, 5, 1, 5, 0],\n",
       "       [6, 2, 1, 5, 0],\n",
       "       [1, 6, 1, 1, 0],\n",
       "       [5, 1, 4, 8, 0],\n",
       "       [8, 5, 3, 1, 0],\n",
       "       [3, 6, 5, 3, 0],\n",
       "       [6, 5, 7, 2, 0],\n",
       "       [5, 8, 3, 6, 0],\n",
       "       [4, 8, 2, 1, 0]])"
      ]
     },
     "execution_count": 114,
     "metadata": {},
     "output_type": "execute_result"
    }
   ],
   "source": [
    "np.hstack((x, np.zeros((10, 1), dtype=int)))"
   ]
  },
  {
   "cell_type": "code",
   "execution_count": 115,
   "metadata": {},
   "outputs": [
    {
     "data": {
      "text/plain": [
       "array([[6, 4, 7, 5, 0],\n",
       "       [3, 5, 1, 5, 0],\n",
       "       [6, 2, 1, 5, 0],\n",
       "       [1, 6, 1, 1, 0],\n",
       "       [5, 1, 4, 8, 0],\n",
       "       [8, 5, 3, 1, 0],\n",
       "       [3, 6, 5, 3, 0],\n",
       "       [6, 5, 7, 2, 0],\n",
       "       [5, 8, 3, 6, 0],\n",
       "       [4, 8, 2, 1, 0]])"
      ]
     },
     "execution_count": 115,
     "metadata": {},
     "output_type": "execute_result"
    }
   ],
   "source": [
    "np.column_stack((x, np.zeros((10, 1), dtype=int)))"
   ]
  },
  {
   "cell_type": "code",
   "execution_count": 111,
   "metadata": {},
   "outputs": [
    {
     "data": {
      "text/plain": [
       "array([[6, 4, 7, 5],\n",
       "       [3, 5, 1, 5],\n",
       "       [6, 2, 1, 5],\n",
       "       [1, 6, 1, 1],\n",
       "       [5, 1, 4, 8],\n",
       "       [8, 5, 3, 1],\n",
       "       [3, 6, 5, 3],\n",
       "       [6, 5, 7, 2],\n",
       "       [5, 8, 3, 6],\n",
       "       [4, 8, 2, 1],\n",
       "       [0, 0, 0, 0]])"
      ]
     },
     "execution_count": 111,
     "metadata": {},
     "output_type": "execute_result"
    }
   ],
   "source": [
    "np.vstack((x, np.zeros((1, 4), dtype=int)))"
   ]
  },
  {
   "cell_type": "code",
   "execution_count": 77,
   "metadata": {},
   "outputs": [
    {
     "data": {
      "text/plain": [
       "array([19, 11, 12])"
      ]
     },
     "execution_count": 77,
     "metadata": {},
     "output_type": "execute_result"
    }
   ],
   "source": [
    "x.sum(axis=1)"
   ]
  },
  {
   "cell_type": "code",
   "execution_count": 67,
   "metadata": {},
   "outputs": [
    {
     "data": {
      "text/plain": [
       "array([[[7, 4, 6, 3],\n",
       "        [2, 7, 1, 8]],\n",
       "\n",
       "       [[4, 4, 4, 7],\n",
       "        [4, 4, 7, 4]]])"
      ]
     },
     "execution_count": 67,
     "metadata": {},
     "output_type": "execute_result"
    }
   ],
   "source": [
    "x.reshape((2, 2, 4))"
   ]
  },
  {
   "cell_type": "code",
   "execution_count": 69,
   "metadata": {},
   "outputs": [],
   "source": [
    "x.resize((2, 4, 2))"
   ]
  },
  {
   "cell_type": "code",
   "execution_count": 70,
   "metadata": {},
   "outputs": [
    {
     "data": {
      "text/plain": [
       "array([[[7, 4],\n",
       "        [6, 3],\n",
       "        [2, 7],\n",
       "        [1, 8]],\n",
       "\n",
       "       [[4, 4],\n",
       "        [4, 7],\n",
       "        [4, 4],\n",
       "        [7, 4]]])"
      ]
     },
     "execution_count": 70,
     "metadata": {},
     "output_type": "execute_result"
    }
   ],
   "source": [
    "x"
   ]
  },
  {
   "cell_type": "code",
   "execution_count": 71,
   "metadata": {},
   "outputs": [
    {
     "data": {
      "text/plain": [
       "array([7, 4, 6, 3, 2, 7, 1, 8, 4, 4, 4, 7, 4, 4, 7, 4])"
      ]
     },
     "execution_count": 71,
     "metadata": {},
     "output_type": "execute_result"
    }
   ],
   "source": [
    "x.ravel()"
   ]
  },
  {
   "cell_type": "code",
   "execution_count": 22,
   "metadata": {},
   "outputs": [],
   "source": [
    "x = np.random.randint(1, 20, size = (3,4))"
   ]
  },
  {
   "cell_type": "code",
   "execution_count": 23,
   "metadata": {},
   "outputs": [
    {
     "data": {
      "text/plain": [
       "array([[15, 16,  5, 17],\n",
       "       [15, 10, 19,  1],\n",
       "       [ 4, 10, 14, 16]])"
      ]
     },
     "execution_count": 23,
     "metadata": {},
     "output_type": "execute_result"
    }
   ],
   "source": [
    "x"
   ]
  },
  {
   "cell_type": "code",
   "execution_count": 39,
   "metadata": {},
   "outputs": [
    {
     "data": {
      "text/plain": [
       "array([[15, 16,  5, 17],\n",
       "       [15, 10, 19,  1],\n",
       "       [ 4, 10, 14, 16],\n",
       "       [ 0,  0,  0,  0]])"
      ]
     },
     "execution_count": 39,
     "metadata": {},
     "output_type": "execute_result"
    }
   ],
   "source": [
    "np.vstack((x, np.zeros((1,4)))).astype(int)"
   ]
  },
  {
   "cell_type": "code",
   "execution_count": 36,
   "metadata": {},
   "outputs": [
    {
     "data": {
      "text/plain": [
       "array([[15, 16,  5, 17,  1],\n",
       "       [15, 10, 19,  1,  1],\n",
       "       [ 4, 10, 14, 16,  1]])"
      ]
     },
     "execution_count": 36,
     "metadata": {},
     "output_type": "execute_result"
    }
   ],
   "source": [
    "np.hstack((x, np.ones((3,1), dtype=int)))"
   ]
  }
 ],
 "metadata": {
  "kernelspec": {
   "display_name": "venv",
   "language": "python",
   "name": "python3"
  },
  "language_info": {
   "codemirror_mode": {
    "name": "ipython",
    "version": 3
   },
   "file_extension": ".py",
   "mimetype": "text/x-python",
   "name": "python",
   "nbconvert_exporter": "python",
   "pygments_lexer": "ipython3",
   "version": "3.9.2"
  }
 },
 "nbformat": 4,
 "nbformat_minor": 2
}

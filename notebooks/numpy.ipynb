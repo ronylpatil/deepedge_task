{
 "cells": [
  {
   "cell_type": "code",
   "execution_count": 1,
   "metadata": {},
   "outputs": [],
   "source": [
    "import numpy as np"
   ]
  },
  {
   "cell_type": "code",
   "execution_count": 118,
   "metadata": {},
   "outputs": [],
   "source": [
    "# .shape -> shape of matrix\n",
    "# .ndim -> no of dimensions\n",
    "# .size -> no of elements\n",
    "# .astype -> type conversion\n",
    "# .dtype -> data type of elements\n",
    "\n",
    "\n",
    "# np.zeros((shape))\n",
    "# np.ones((shape))\n",
    "# np.empty((shape))\n",
    "# np.random.randint(start no, end no, size = (shape))\n",
    "\n",
    "# np.arange(1,20)\n",
    "# np.linspace(1,20,10,dtype=int)\n",
    "\n",
    "# .reshape((shape)) return a copy\n",
    "# .resize((shape)) inplace reshape karega\n",
    "\n",
    "# .flat - flatten the array and return flatiter obj\n",
    "# .ravel() - return a flatten copy and return a array\n",
    "\n",
    "# x+y\n",
    "# x-y\n",
    "# x*y\n",
    "# x//y\n",
    "# x@y\n",
    "\n",
    "# axis = 1 row wise L2R\n",
    "# axis = 0 column wise T2B\n",
    "# .sum()\n",
    "# .cumsum()\n",
    "# .sort()\n",
    "# .min()\n",
    "# .max()\n",
    "\n",
    "\n",
    "# slicing\n",
    "# x[:, :] -> all rows all columns\n",
    "# x[:, 1:] -> all rows skip 0th column\n",
    "# x[2:, 0] -> from row 2 and 0th column\n",
    "# x[-1::-1, :] -> rows from bottom to top\n",
    "# x[:, -1::-1] -> columns from right to left\n",
    "# x[-1::-1, -1::-1] -> fully invert the matrix\n",
    "# x[1:, 0] = 0 -> assign the values\n",
    "\n",
    "\n",
    "# np.vstack - vertically append kr dega \n",
    "# np.hstack - horizontally append kr dega \n",
    "# np.column_stack - as a new column add kr dega (same as hstack)\n",
    "# np.row_stack - as a new row add kr dega (same as vstack)\n",
    "# np.concatinate - work as both column stack nd row stack. use axis=1 for column_stack and 0 for row_stack.\n",
    "\n",
    "# for 3D matrix use\n",
    "# np.concate((x, y), axis = 0/1/2) - axis = 0 along the depth, 1 along the rows, 2 along the column\n",
    "\n",
    "\n",
    "# np.where(condition, if_true, false)"
   ]
  }
 ],
 "metadata": {
  "kernelspec": {
   "display_name": "venv",
   "language": "python",
   "name": "python3"
  },
  "language_info": {
   "codemirror_mode": {
    "name": "ipython",
    "version": 3
   },
   "file_extension": ".py",
   "mimetype": "text/x-python",
   "name": "python",
   "nbconvert_exporter": "python",
   "pygments_lexer": "ipython3",
   "version": "3.9.2"
  }
 },
 "nbformat": 4,
 "nbformat_minor": 2
}

{
 "cells": [
  {
   "cell_type": "code",
   "execution_count": 2,
   "metadata": {},
   "outputs": [],
   "source": [
    "# import required libraries\n",
    "import numpy as np\n",
    "import tensorflow as tf\n",
    "import matplotlib.pyplot as plt\n",
    "from tensorflow.keras import layers, models "
   ]
  },
  {
   "cell_type": "code",
   "execution_count": 16,
   "metadata": {},
   "outputs": [],
   "source": [
    "# generate training, validation, and test data\n",
    "train_images = np.zeros((100, 50, 50, 1), dtype=np.float32)\n",
    "train_coordinates = []\n",
    "test_images = np.zeros((50, 50, 50, 1), dtype=np.float32)\n",
    "test_coordinates = []\n",
    "val_images = np.zeros((50, 50, 50, 1), dtype=np.float32)\n",
    "val_coordinates = []\n",
    "\n",
    "for i in range(100) : \n",
    "    x = np.random.randint(0, 50)\n",
    "    y = np.random.randint(0, 50)\n",
    "    train_images[i][x][y] = 1\n",
    "    train_coordinates.append([x, y])\n",
    "\n",
    "for i in range(50) :\n",
    "    a = np.random.randint(0, 50)\n",
    "    b = np.random.randint(0, 50)\n",
    "    c = np.random.randint(0, 50)\n",
    "    d = np.random.randint(0, 50)\n",
    "    test_images[i][a][b] = 1\n",
    "    test_coordinates.append([a, b])\n",
    "    \n",
    "    val_images[i][c][d] = 1\n",
    "    val_coordinates.append([c, d])\n",
    "\n",
    "train_coordinates = np.array(train_coordinates).astype(np.float32)\n",
    "test_coordinates = np.array(test_coordinates).astype(np.float32)\n",
    "val_coordinates = np.array(val_coordinates).astype(np.float32)"
   ]
  },
  {
   "cell_type": "code",
   "execution_count": 17,
   "metadata": {},
   "outputs": [],
   "source": [
    "# Define the model\n",
    "model = models.Sequential()\n",
    "model.add(layers.Conv2D(32, (3, 3), activation=\"relu\"))\n",
    "model.add(layers.MaxPooling2D((2, 2)))\n",
    "model.add(layers.Conv2D(64, (3, 3), activation=\"relu\"))\n",
    "model.add(layers.MaxPooling2D((2, 2)))\n",
    "model.add(layers.Conv2D(64, (3, 3), activation=\"relu\"))\n",
    "model.add(layers.Flatten())\n",
    "model.add(layers.Dense(64, activation='relu'))\n",
    "model.add(layers.Dense(2)) \n",
    "\n",
    "# Compile the model\n",
    "model.compile(\n",
    "    optimizer=\"adam\", loss=\"mean_squared_error\", metrics=[\"mean_absolute_error\"]\n",
    ")"
   ]
  },
  {
   "cell_type": "code",
   "execution_count": 18,
   "metadata": {},
   "outputs": [
    {
     "name": "stdout",
     "output_type": "stream",
     "text": [
      "Epoch 1/50\n",
      "\u001b[1m4/4\u001b[0m \u001b[32m━━━━━━━━━━━━━━━━━━━━\u001b[0m\u001b[37m\u001b[0m \u001b[1m2s\u001b[0m 93ms/step - loss: 771.6745 - mean_absolute_error: 24.2064 - val_loss: 779.4475 - val_mean_absolute_error: 23.9069\n",
      "Epoch 2/50\n",
      "\u001b[1m4/4\u001b[0m \u001b[32m━━━━━━━━━━━━━━━━━━━━\u001b[0m\u001b[37m\u001b[0m \u001b[1m0s\u001b[0m 37ms/step - loss: 731.2757 - mean_absolute_error: 23.2423 - val_loss: 597.0854 - val_mean_absolute_error: 19.9726\n",
      "Epoch 3/50\n",
      "\u001b[1m4/4\u001b[0m \u001b[32m━━━━━━━━━━━━━━━━━━━━\u001b[0m\u001b[37m\u001b[0m \u001b[1m0s\u001b[0m 34ms/step - loss: 510.3287 - mean_absolute_error: 18.6258 - val_loss: 227.6729 - val_mean_absolute_error: 13.0938\n",
      "Epoch 4/50\n",
      "\u001b[1m4/4\u001b[0m \u001b[32m━━━━━━━━━━━━━━━━━━━━\u001b[0m\u001b[37m\u001b[0m \u001b[1m0s\u001b[0m 36ms/step - loss: 248.3483 - mean_absolute_error: 13.5048 - val_loss: 229.7220 - val_mean_absolute_error: 13.1126\n",
      "Epoch 5/50\n",
      "\u001b[1m4/4\u001b[0m \u001b[32m━━━━━━━━━━━━━━━━━━━━\u001b[0m\u001b[37m\u001b[0m \u001b[1m0s\u001b[0m 35ms/step - loss: 211.0417 - mean_absolute_error: 12.5122 - val_loss: 224.1014 - val_mean_absolute_error: 13.0741\n",
      "Epoch 6/50\n",
      "\u001b[1m4/4\u001b[0m \u001b[32m━━━━━━━━━━━━━━━━━━━━\u001b[0m\u001b[37m\u001b[0m \u001b[1m0s\u001b[0m 33ms/step - loss: 222.0086 - mean_absolute_error: 12.4416 - val_loss: 202.9635 - val_mean_absolute_error: 12.5910\n",
      "Epoch 7/50\n",
      "\u001b[1m4/4\u001b[0m \u001b[32m━━━━━━━━━━━━━━━━━━━━\u001b[0m\u001b[37m\u001b[0m \u001b[1m0s\u001b[0m 35ms/step - loss: 194.0244 - mean_absolute_error: 12.1539 - val_loss: 209.3616 - val_mean_absolute_error: 12.5851\n",
      "Epoch 8/50\n",
      "\u001b[1m4/4\u001b[0m \u001b[32m━━━━━━━━━━━━━━━━━━━━\u001b[0m\u001b[37m\u001b[0m \u001b[1m0s\u001b[0m 36ms/step - loss: 197.7099 - mean_absolute_error: 12.0593 - val_loss: 208.2807 - val_mean_absolute_error: 12.5730\n",
      "Epoch 9/50\n",
      "\u001b[1m4/4\u001b[0m \u001b[32m━━━━━━━━━━━━━━━━━━━━\u001b[0m\u001b[37m\u001b[0m \u001b[1m0s\u001b[0m 34ms/step - loss: 198.6408 - mean_absolute_error: 11.7393 - val_loss: 209.6791 - val_mean_absolute_error: 12.4796\n",
      "Epoch 10/50\n",
      "\u001b[1m4/4\u001b[0m \u001b[32m━━━━━━━━━━━━━━━━━━━━\u001b[0m\u001b[37m\u001b[0m \u001b[1m0s\u001b[0m 34ms/step - loss: 208.5700 - mean_absolute_error: 12.0796 - val_loss: 200.4327 - val_mean_absolute_error: 12.3210\n",
      "Epoch 11/50\n",
      "\u001b[1m4/4\u001b[0m \u001b[32m━━━━━━━━━━━━━━━━━━━━\u001b[0m\u001b[37m\u001b[0m \u001b[1m0s\u001b[0m 35ms/step - loss: 189.7122 - mean_absolute_error: 11.6420 - val_loss: 190.9245 - val_mean_absolute_error: 11.9974\n",
      "Epoch 12/50\n",
      "\u001b[1m4/4\u001b[0m \u001b[32m━━━━━━━━━━━━━━━━━━━━\u001b[0m\u001b[37m\u001b[0m \u001b[1m0s\u001b[0m 35ms/step - loss: 191.4826 - mean_absolute_error: 11.8327 - val_loss: 185.0963 - val_mean_absolute_error: 11.8487\n",
      "Epoch 13/50\n",
      "\u001b[1m4/4\u001b[0m \u001b[32m━━━━━━━━━━━━━━━━━━━━\u001b[0m\u001b[37m\u001b[0m \u001b[1m0s\u001b[0m 41ms/step - loss: 183.5454 - mean_absolute_error: 11.5923 - val_loss: 181.7161 - val_mean_absolute_error: 11.7149\n",
      "Epoch 14/50\n",
      "\u001b[1m4/4\u001b[0m \u001b[32m━━━━━━━━━━━━━━━━━━━━\u001b[0m\u001b[37m\u001b[0m \u001b[1m0s\u001b[0m 45ms/step - loss: 174.5356 - mean_absolute_error: 11.2005 - val_loss: 174.2510 - val_mean_absolute_error: 11.3233\n",
      "Epoch 15/50\n",
      "\u001b[1m4/4\u001b[0m \u001b[32m━━━━━━━━━━━━━━━━━━━━\u001b[0m\u001b[37m\u001b[0m \u001b[1m0s\u001b[0m 44ms/step - loss: 171.1816 - mean_absolute_error: 11.0389 - val_loss: 169.6104 - val_mean_absolute_error: 11.0505\n",
      "Epoch 16/50\n",
      "\u001b[1m4/4\u001b[0m \u001b[32m━━━━━━━━━━━━━━━━━━━━\u001b[0m\u001b[37m\u001b[0m \u001b[1m0s\u001b[0m 38ms/step - loss: 157.5317 - mean_absolute_error: 10.2232 - val_loss: 163.9176 - val_mean_absolute_error: 10.8313\n",
      "Epoch 17/50\n",
      "\u001b[1m4/4\u001b[0m \u001b[32m━━━━━━━━━━━━━━━━━━━━\u001b[0m\u001b[37m\u001b[0m \u001b[1m0s\u001b[0m 41ms/step - loss: 168.5739 - mean_absolute_error: 10.7972 - val_loss: 149.7133 - val_mean_absolute_error: 10.1790\n",
      "Epoch 18/50\n",
      "\u001b[1m4/4\u001b[0m \u001b[32m━━━━━━━━━━━━━━━━━━━━\u001b[0m\u001b[37m\u001b[0m \u001b[1m0s\u001b[0m 41ms/step - loss: 146.1985 - mean_absolute_error: 9.7388 - val_loss: 137.6385 - val_mean_absolute_error: 9.5057\n",
      "Epoch 19/50\n",
      "\u001b[1m4/4\u001b[0m \u001b[32m━━━━━━━━━━━━━━━━━━━━\u001b[0m\u001b[37m\u001b[0m \u001b[1m0s\u001b[0m 38ms/step - loss: 137.0286 - mean_absolute_error: 9.2077 - val_loss: 131.1137 - val_mean_absolute_error: 9.3179\n",
      "Epoch 20/50\n",
      "\u001b[1m4/4\u001b[0m \u001b[32m━━━━━━━━━━━━━━━━━━━━\u001b[0m\u001b[37m\u001b[0m \u001b[1m0s\u001b[0m 40ms/step - loss: 132.4855 - mean_absolute_error: 9.1205 - val_loss: 109.5805 - val_mean_absolute_error: 8.1560\n",
      "Epoch 21/50\n",
      "\u001b[1m4/4\u001b[0m \u001b[32m━━━━━━━━━━━━━━━━━━━━\u001b[0m\u001b[37m\u001b[0m \u001b[1m0s\u001b[0m 40ms/step - loss: 116.4933 - mean_absolute_error: 8.0249 - val_loss: 102.3665 - val_mean_absolute_error: 8.0059\n",
      "Epoch 22/50\n",
      "\u001b[1m4/4\u001b[0m \u001b[32m━━━━━━━━━━━━━━━━━━━━\u001b[0m\u001b[37m\u001b[0m \u001b[1m0s\u001b[0m 35ms/step - loss: 108.0430 - mean_absolute_error: 7.7371 - val_loss: 94.6610 - val_mean_absolute_error: 7.4111\n",
      "Epoch 23/50\n",
      "\u001b[1m4/4\u001b[0m \u001b[32m━━━━━━━━━━━━━━━━━━━━\u001b[0m\u001b[37m\u001b[0m \u001b[1m0s\u001b[0m 36ms/step - loss: 98.4757 - mean_absolute_error: 7.0490 - val_loss: 87.0508 - val_mean_absolute_error: 7.0091\n",
      "Epoch 24/50\n",
      "\u001b[1m4/4\u001b[0m \u001b[32m━━━━━━━━━━━━━━━━━━━━\u001b[0m\u001b[37m\u001b[0m \u001b[1m0s\u001b[0m 36ms/step - loss: 96.2531 - mean_absolute_error: 7.2284 - val_loss: 86.7409 - val_mean_absolute_error: 7.2788\n",
      "Epoch 25/50\n",
      "\u001b[1m4/4\u001b[0m \u001b[32m━━━━━━━━━━━━━━━━━━━━\u001b[0m\u001b[37m\u001b[0m \u001b[1m0s\u001b[0m 34ms/step - loss: 88.0403 - mean_absolute_error: 6.9348 - val_loss: 77.1815 - val_mean_absolute_error: 6.3230\n",
      "Epoch 26/50\n",
      "\u001b[1m4/4\u001b[0m \u001b[32m━━━━━━━━━━━━━━━━━━━━\u001b[0m\u001b[37m\u001b[0m \u001b[1m0s\u001b[0m 37ms/step - loss: 89.4365 - mean_absolute_error: 6.5311 - val_loss: 73.1294 - val_mean_absolute_error: 5.9767\n",
      "Epoch 27/50\n",
      "\u001b[1m4/4\u001b[0m \u001b[32m━━━━━━━━━━━━━━━━━━━━\u001b[0m\u001b[37m\u001b[0m \u001b[1m0s\u001b[0m 35ms/step - loss: 68.7375 - mean_absolute_error: 5.9762 - val_loss: 95.0145 - val_mean_absolute_error: 8.3617\n",
      "Epoch 28/50\n",
      "\u001b[1m4/4\u001b[0m \u001b[32m━━━━━━━━━━━━━━━━━━━━\u001b[0m\u001b[37m\u001b[0m \u001b[1m0s\u001b[0m 37ms/step - loss: 94.2921 - mean_absolute_error: 7.7678 - val_loss: 72.0747 - val_mean_absolute_error: 6.0563\n",
      "Epoch 29/50\n",
      "\u001b[1m4/4\u001b[0m \u001b[32m━━━━━━━━━━━━━━━━━━━━\u001b[0m\u001b[37m\u001b[0m \u001b[1m0s\u001b[0m 55ms/step - loss: 76.8174 - mean_absolute_error: 6.0939 - val_loss: 63.6640 - val_mean_absolute_error: 5.6755\n",
      "Epoch 30/50\n",
      "\u001b[1m4/4\u001b[0m \u001b[32m━━━━━━━━━━━━━━━━━━━━\u001b[0m\u001b[37m\u001b[0m \u001b[1m0s\u001b[0m 34ms/step - loss: 71.0648 - mean_absolute_error: 5.8216 - val_loss: 65.6182 - val_mean_absolute_error: 6.2479\n",
      "Epoch 31/50\n",
      "\u001b[1m4/4\u001b[0m \u001b[32m━━━━━━━━━━━━━━━━━━━━\u001b[0m\u001b[37m\u001b[0m \u001b[1m0s\u001b[0m 32ms/step - loss: 72.7178 - mean_absolute_error: 6.0120 - val_loss: 61.5925 - val_mean_absolute_error: 5.9334\n",
      "Epoch 32/50\n",
      "\u001b[1m4/4\u001b[0m \u001b[32m━━━━━━━━━━━━━━━━━━━━\u001b[0m\u001b[37m\u001b[0m \u001b[1m0s\u001b[0m 35ms/step - loss: 72.6149 - mean_absolute_error: 5.9633 - val_loss: 55.8896 - val_mean_absolute_error: 5.5075\n",
      "Epoch 33/50\n",
      "\u001b[1m4/4\u001b[0m \u001b[32m━━━━━━━━━━━━━━━━━━━━\u001b[0m\u001b[37m\u001b[0m \u001b[1m0s\u001b[0m 34ms/step - loss: 66.6492 - mean_absolute_error: 5.7127 - val_loss: 54.2382 - val_mean_absolute_error: 5.5109\n",
      "Epoch 34/50\n",
      "\u001b[1m4/4\u001b[0m \u001b[32m━━━━━━━━━━━━━━━━━━━━\u001b[0m\u001b[37m\u001b[0m \u001b[1m0s\u001b[0m 33ms/step - loss: 58.3590 - mean_absolute_error: 5.3136 - val_loss: 48.7371 - val_mean_absolute_error: 5.0605\n",
      "Epoch 35/50\n",
      "\u001b[1m4/4\u001b[0m \u001b[32m━━━━━━━━━━━━━━━━━━━━\u001b[0m\u001b[37m\u001b[0m \u001b[1m0s\u001b[0m 31ms/step - loss: 53.8778 - mean_absolute_error: 4.8911 - val_loss: 49.7269 - val_mean_absolute_error: 5.2432\n",
      "Epoch 36/50\n",
      "\u001b[1m4/4\u001b[0m \u001b[32m━━━━━━━━━━━━━━━━━━━━\u001b[0m\u001b[37m\u001b[0m \u001b[1m0s\u001b[0m 32ms/step - loss: 60.1942 - mean_absolute_error: 5.2947 - val_loss: 44.2479 - val_mean_absolute_error: 4.9072\n",
      "Epoch 37/50\n",
      "\u001b[1m4/4\u001b[0m \u001b[32m━━━━━━━━━━━━━━━━━━━━\u001b[0m\u001b[37m\u001b[0m \u001b[1m0s\u001b[0m 31ms/step - loss: 49.0346 - mean_absolute_error: 4.7437 - val_loss: 42.4110 - val_mean_absolute_error: 4.9415\n",
      "Epoch 38/50\n",
      "\u001b[1m4/4\u001b[0m \u001b[32m━━━━━━━━━━━━━━━━━━━━\u001b[0m\u001b[37m\u001b[0m \u001b[1m0s\u001b[0m 34ms/step - loss: 46.8824 - mean_absolute_error: 4.4825 - val_loss: 44.6047 - val_mean_absolute_error: 5.2085\n",
      "Epoch 39/50\n",
      "\u001b[1m4/4\u001b[0m \u001b[32m━━━━━━━━━━━━━━━━━━━━\u001b[0m\u001b[37m\u001b[0m \u001b[1m0s\u001b[0m 38ms/step - loss: 49.3092 - mean_absolute_error: 5.0207 - val_loss: 35.1409 - val_mean_absolute_error: 4.3753\n",
      "Epoch 40/50\n",
      "\u001b[1m4/4\u001b[0m \u001b[32m━━━━━━━━━━━━━━━━━━━━\u001b[0m\u001b[37m\u001b[0m \u001b[1m0s\u001b[0m 34ms/step - loss: 44.3135 - mean_absolute_error: 4.2187 - val_loss: 31.9532 - val_mean_absolute_error: 4.1642\n",
      "Epoch 41/50\n",
      "\u001b[1m4/4\u001b[0m \u001b[32m━━━━━━━━━━━━━━━━━━━━\u001b[0m\u001b[37m\u001b[0m \u001b[1m0s\u001b[0m 37ms/step - loss: 42.7616 - mean_absolute_error: 4.3110 - val_loss: 31.3499 - val_mean_absolute_error: 4.1916\n",
      "Epoch 42/50\n",
      "\u001b[1m4/4\u001b[0m \u001b[32m━━━━━━━━━━━━━━━━━━━━\u001b[0m\u001b[37m\u001b[0m \u001b[1m0s\u001b[0m 40ms/step - loss: 43.1224 - mean_absolute_error: 4.4092 - val_loss: 29.7832 - val_mean_absolute_error: 4.2951\n",
      "Epoch 43/50\n",
      "\u001b[1m4/4\u001b[0m \u001b[32m━━━━━━━━━━━━━━━━━━━━\u001b[0m\u001b[37m\u001b[0m \u001b[1m0s\u001b[0m 36ms/step - loss: 42.8194 - mean_absolute_error: 4.5206 - val_loss: 26.5755 - val_mean_absolute_error: 3.9177\n",
      "Epoch 44/50\n",
      "\u001b[1m4/4\u001b[0m \u001b[32m━━━━━━━━━━━━━━━━━━━━\u001b[0m\u001b[37m\u001b[0m \u001b[1m0s\u001b[0m 37ms/step - loss: 40.0850 - mean_absolute_error: 4.1931 - val_loss: 24.5928 - val_mean_absolute_error: 3.7260\n",
      "Epoch 45/50\n",
      "\u001b[1m4/4\u001b[0m \u001b[32m━━━━━━━━━━━━━━━━━━━━\u001b[0m\u001b[37m\u001b[0m \u001b[1m0s\u001b[0m 40ms/step - loss: 34.7842 - mean_absolute_error: 3.6256 - val_loss: 22.8111 - val_mean_absolute_error: 3.4993\n",
      "Epoch 46/50\n",
      "\u001b[1m4/4\u001b[0m \u001b[32m━━━━━━━━━━━━━━━━━━━━\u001b[0m\u001b[37m\u001b[0m \u001b[1m0s\u001b[0m 36ms/step - loss: 28.3667 - mean_absolute_error: 3.2447 - val_loss: 22.4553 - val_mean_absolute_error: 3.5348\n",
      "Epoch 47/50\n",
      "\u001b[1m4/4\u001b[0m \u001b[32m━━━━━━━━━━━━━━━━━━━━\u001b[0m\u001b[37m\u001b[0m \u001b[1m0s\u001b[0m 40ms/step - loss: 35.6159 - mean_absolute_error: 3.6047 - val_loss: 20.7585 - val_mean_absolute_error: 3.3309\n",
      "Epoch 48/50\n",
      "\u001b[1m4/4\u001b[0m \u001b[32m━━━━━━━━━━━━━━━━━━━━\u001b[0m\u001b[37m\u001b[0m \u001b[1m0s\u001b[0m 38ms/step - loss: 31.5419 - mean_absolute_error: 3.4077 - val_loss: 19.3899 - val_mean_absolute_error: 3.3321\n",
      "Epoch 49/50\n",
      "\u001b[1m4/4\u001b[0m \u001b[32m━━━━━━━━━━━━━━━━━━━━\u001b[0m\u001b[37m\u001b[0m \u001b[1m0s\u001b[0m 36ms/step - loss: 35.0236 - mean_absolute_error: 3.6377 - val_loss: 16.9153 - val_mean_absolute_error: 3.1166\n",
      "Epoch 50/50\n",
      "\u001b[1m4/4\u001b[0m \u001b[32m━━━━━━━━━━━━━━━━━━━━\u001b[0m\u001b[37m\u001b[0m \u001b[1m0s\u001b[0m 37ms/step - loss: 31.1730 - mean_absolute_error: 3.4358 - val_loss: 16.2799 - val_mean_absolute_error: 3.0780\n"
     ]
    }
   ],
   "source": [
    "# fit the model on training data\n",
    "history = model.fit(train_images, train_coordinates, epochs=50, \n",
    "                    validation_data=(val_images, val_coordinates))"
   ]
  },
  {
   "cell_type": "code",
   "execution_count": 19,
   "metadata": {},
   "outputs": [
    {
     "name": "stdout",
     "output_type": "stream",
     "text": [
      "2/2 - 0s - 18ms/step - loss: 20.5543 - mean_absolute_error: 3.1841\n",
      "Test MAE: 3.1840527057647705\n"
     ]
    }
   ],
   "source": [
    "# Evaluate the model\n",
    "test_loss, test_mae = model.evaluate(test_images, test_coordinates, verbose=2)\n",
    "print(f'Test MAE: {test_mae}')"
   ]
  },
  {
   "cell_type": "code",
   "execution_count": 20,
   "metadata": {},
   "outputs": [
    {
     "name": "stdout",
     "output_type": "stream",
     "text": [
      "\u001b[1m2/2\u001b[0m \u001b[32m━━━━━━━━━━━━━━━━━━━━\u001b[0m\u001b[37m\u001b[0m \u001b[1m0s\u001b[0m 72ms/step\n"
     ]
    }
   ],
   "source": [
    "# Make predictions\n",
    "predictions = model.predict(test_images)"
   ]
  },
  {
   "cell_type": "code",
   "execution_count": 21,
   "metadata": {},
   "outputs": [],
   "source": [
    "# calculate the residual\n",
    "x = test_coordinates[:,0] - predictions[:,0]\n",
    "y = test_coordinates[:,1] - predictions[:,1]"
   ]
  },
  {
   "cell_type": "code",
   "execution_count": 22,
   "metadata": {},
   "outputs": [
    {
     "data": {
      "image/png": "[encoded data removed]",
      "text/plain": [
       "<Figure size 1000x600 with 1 Axes>"
      ]
     },
     "metadata": {},
     "output_type": "display_data"
    }
   ],
   "source": [
    "# Create the scatter plot\n",
    "plt.figure(figsize=(10, 6))\n",
    "plt.scatter(x, y, color='blue', label='Predicted')\n",
    "plt.xlabel('X Coordinate')\n",
    "plt.ylabel('Y Coordinate')\n",
    "plt.title('Predicted vs Actual Coordinates')\n",
    "plt.legend()\n",
    "plt.show()"
   ]
  }
 ],
 "metadata": {
  "kernelspec": {
   "display_name": "venv",
   "language": "python",
   "name": "python3"
  },
  "language_info": {
   "codemirror_mode": {
    "name": "ipython",
    "version": 3
   },
   "file_extension": ".py",
   "mimetype": "text/x-python",
   "name": "python",
   "nbconvert_exporter": "python",
   "pygments_lexer": "ipython3",
   "version": "3.9.2"
  }
 },
 "nbformat": 4,
 "nbformat_minor": 2
}
